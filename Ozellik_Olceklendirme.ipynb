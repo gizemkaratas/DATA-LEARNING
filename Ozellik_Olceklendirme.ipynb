{
  "nbformat": 4,
  "nbformat_minor": 0,
  "metadata": {
    "colab": {
      "provenance": [],
      "authorship_tag": "ABX9TyP6MCYJcFSorK7HtuLpgei2",
      "include_colab_link": true
    },
    "kernelspec": {
      "name": "python3",
      "display_name": "Python 3"
    },
    "language_info": {
      "name": "python"
    }
  },
  "cells": [
    {
      "cell_type": "markdown",
      "metadata": {
        "id": "view-in-github",
        "colab_type": "text"
      },
      "source": [
        "<a href=\"https://colab.research.google.com/github/gizemkaratas/DATA-LEARNING/blob/main/Ozellik_Olceklendirme.ipynb\" target=\"_parent\"><img src=\"https://colab.research.google.com/assets/colab-badge.svg\" alt=\"Open In Colab\"/></a>"
      ]
    },
    {
      "cell_type": "code",
      "execution_count": null,
      "metadata": {
        "id": "8gsvXqlddB19"
      },
      "outputs": [],
      "source": [
        "############################################\n",
        "# Feature Scaling (Özellik Ölçeklendirme)\n",
        "#############################################\n",
        "#makinenin modelin değişkenlerin gözlenme oranına göre yanlılık yaşamamamsı için aynı aralıkta derecelendirilmesidir 0-1 , gradient discent kullanılan modeldeiterasyonun daha hızlı gerçekleşmesini sağlar eğitim süesinin\n",
        "#knn gibi modellerde ölçeklerin farklı olması uzaklık temelli modellerde yanlılığın önüne geçmeyi hedefleriz\n",
        "#ağaca dayalı yöntemler scalerden etkilenmez\n",
        "###################\n",
        "# StandardScaler: Klasik standartlaştırma. Ortalamayı gözlem   biriminden çıkar, standart sapmaya böl. z = (x - u) / s\n",
        "###################\n",
        "\n",
        "df = load()\n",
        "ss = StandardScaler()\n",
        "df[\"Age_standard_scaler\"] = ss.fit_transform(df[[\"Age\"]])\n",
        "df.head()\n",
        "\n",
        "\n",
        "###################\n",
        "# RobustScaler: Medyanı çıkar iqr'a böl.  standart sapma ve ortta aykırı değerden etkilenir bu sebeğle etkilenmeyen şeylerle işlem yaparız gözlem biriminden- medyan çıkar/iqra böl\n",
        "###################\n",
        "\n",
        "rs = RobustScaler()\n",
        "df[\"Age_robuts_scaler\"] = rs.fit_transform(df[[\"Age\"]])\n",
        "df.describe().T\n",
        "\n",
        "###################\n",
        "# MinMaxScaler: Verilen 2 değer arasında değişken dönüşümü değişkenleri dönüştürmek istenilen özel bi aralık varsa ona göre ölçeklendirir 1-10 0-1 -1-1 gibi\n",
        "###################\n",
        "\n",
        "# X_std = (X - X.min(axis=0)) / (X.max(axis=0) - X.min(axis=0))\n",
        "# X_scaled = X_std * (max - min) + min\n",
        "\n",
        "mms = MinMaxScaler()\n",
        "df[\"Age_min_max_scaler\"] = mms.fit_transform(df[[\"Age\"]])\n",
        "df.describe().T\n",
        "\n",
        "df.head()\n",
        "\n",
        "age_cols = [col for col in df.columns if \"Age\" in col]\n",
        "\n",
        "def num_summary(dataframe, numerical_col, plot=False): #sayısal değerin çeyrekler değerleri gösterip görselleştirmek\n",
        "    quantiles = [0.05, 0.10, 0.20, 0.30, 0.40, 0.50, 0.60, 0.70, 0.80, 0.90, 0.95, 0.99]\n",
        "    print(dataframe[numerical_col].describe(quantiles).T)\n",
        "\n",
        "    if plot:\n",
        "        dataframe[numerical_col].hist(bins=20)\n",
        "        plt.xlabel(numerical_col)\n",
        "        plt.title(numerical_col)\n",
        "        plt.show(block=True)\n",
        "\n",
        "for col in age_cols:\n",
        "    num_summary(df, col, plot=True)"
      ]
    },
    {
      "cell_type": "code",
      "source": [
        "###################\n",
        "# Numeric to Categorical: Sayısal Değişkenleri Kateorik Değişkenlere Çevirme\n",
        "# Binning\n",
        "###################\n",
        "\n",
        "df[\"Age_qcut\"] = pd.qcut(df['Age'], 5) #değişkeni küçükten büyüğe sıralayıp 5 parçaya bölüp sınıf ismi atamamızı sağlar\n",
        "\n",
        "\n",
        "print('Test Stat = %.4f, p-value = %.4f' % (test_stat, pvalue))"
      ],
      "metadata": {
        "id": "Xrvh3odDhQ3t"
      },
      "execution_count": null,
      "outputs": []
    }
  ]
}